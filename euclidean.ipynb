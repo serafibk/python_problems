{
 "cells": [
  {
   "cell_type": "code",
   "execution_count": 14,
   "metadata": {
    "scrolled": true
   },
   "outputs": [
    {
     "name": "stdout",
     "output_type": "stream",
     "text": [
      "enter a number44\n",
      "enter another13\n",
      "5\n",
      "31\n"
     ]
    }
   ],
   "source": [
    "import numpy as np\n",
    "\n",
    "\n",
    "num1 = int(input(\"enter a number\"))\n",
    "num2 = int(input(\"enter another\"))\n",
    "\n",
    "num3 = np.abs(num1-num2)\n",
    "\n",
    "\n",
    "k = 1\n",
    "while(num2 - k*num3 > 0):\n",
    "    k = k+1\n",
    "\n",
    "\n",
    "\n",
    "factor = k\n",
    "\n",
    "j = 1\n",
    "while(num3 - j*factor > 0):\n",
    "    j = j+1\n",
    "    \n",
    "\n",
    "ans = j\n",
    "print(ans)\n",
    "\n",
    "\n"
   ]
  },
  {
   "cell_type": "code",
   "execution_count": null,
   "metadata": {},
   "outputs": [],
   "source": []
  },
  {
   "cell_type": "code",
   "execution_count": null,
   "metadata": {},
   "outputs": [],
   "source": []
  }
 ],
 "metadata": {
  "kernelspec": {
   "display_name": "Python 3",
   "language": "python",
   "name": "python3"
  },
  "language_info": {
   "codemirror_mode": {
    "name": "ipython",
    "version": 3
   },
   "file_extension": ".py",
   "mimetype": "text/x-python",
   "name": "python",
   "nbconvert_exporter": "python",
   "pygments_lexer": "ipython3",
   "version": "3.6.5"
  }
 },
 "nbformat": 4,
 "nbformat_minor": 2
}
